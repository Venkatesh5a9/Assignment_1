{
 "cells": [
  {
   "cell_type": "markdown",
   "id": "c95719dd",
   "metadata": {},
   "source": [
    "### import all the necessary libraries"
   ]
  },
  {
   "cell_type": "code",
   "execution_count": 1,
   "id": "357855b5",
   "metadata": {},
   "outputs": [],
   "source": [
    "import json\n",
    "from collections import defaultdict\n",
    "from datetime import datetime\n",
    "import mstarpy\n"
   ]
  },
  {
   "cell_type": "markdown",
   "id": "95624975",
   "metadata": {},
   "source": [
    "### loading the data from provided json file"
   ]
  },
  {
   "cell_type": "code",
   "execution_count": 2,
   "id": "ed584cdd",
   "metadata": {},
   "outputs": [],
   "source": [
    "def load_transaction_data(file_path):\n",
    "    with open(file_path) as f:\n",
    "        data = json.load(f)\n",
    "    return data['data'][0]['dtSummary']"
   ]
  },
  {
   "cell_type": "markdown",
   "id": "bebf4ea2",
   "metadata": {},
   "source": [
    "### Processing the transaction to create a profolio structure"
   ]
  },
  {
   "cell_type": "code",
   "execution_count": 3,
   "id": "a10fe578",
   "metadata": {},
   "outputs": [],
   "source": [
    "def process_transactions(transactions):\n",
    "    portfolio = {}\n",
    "    \n",
    "    for trxn in transactions:\n",
    "        scheme = trxn['schemeName']\n",
    "        folio = scheme  # Assuming folio is represented by scheme name (since not explicitly provided)\n",
    "        \n",
    "        units = float(trxn.get('closingBalance', 0))  # Units held\n",
    "        nav = float(trxn.get('nav', 0))  # Current NAV\n",
    "        cost_value = float(trxn.get('costValue', 0))  # Initial cost value\n",
    "        \n",
    "        if folio not in portfolio:\n",
    "            portfolio[folio] = {}\n",
    "        \n",
    "        portfolio[folio][scheme] = {\n",
    "            'units': units,\n",
    "            'nav': nav,\n",
    "            'cost_value': cost_value\n",
    "        }\n",
    "    \n",
    "    return portfolio\n"
   ]
  },
  {
   "cell_type": "markdown",
   "id": "0950d6db",
   "metadata": {},
   "source": [
    "### Function to calculate the gain ang value of the portfolio"
   ]
  },
  {
   "cell_type": "code",
   "execution_count": 4,
   "id": "563699ea",
   "metadata": {},
   "outputs": [],
   "source": [
    "def calculate_portfolio_value_and_gain(portfolio):\n",
    "    total_value = 0\n",
    "    total_cost = 0 \n",
    "    for folio, scheme_data in portfolio.items():\n",
    "        for scheme, data in scheme_data.items():\n",
    "            current_nav = data['nav']\n",
    "            units_held = data['units']\n",
    "            purchase_cost = data['cost_value']\n",
    "            if units_held > 0 and current_nav > 0:\n",
    "                current_value = units_held * current_nav\n",
    "                total_value += current_value\n",
    "                total_cost += purchase_cost\n",
    "    total_gain = total_value - total_cost\n",
    "    return total_value, total_gain"
   ]
  },
  {
   "cell_type": "code",
   "execution_count": 8,
   "id": "4c5cf22e",
   "metadata": {},
   "outputs": [
    {
     "name": "stdout",
     "output_type": "stream",
     "text": [
      "Total Portfolio Value: 4089696.7902969\n",
      "Total Portfolio Gain: 964793.8802968999\n"
     ]
    }
   ],
   "source": [
    "if __name__ == \"__main__\":\n",
    "    transactions = load_transaction_data('transaction.json') \n",
    "    portfolio = process_transactions(transactions)\n",
    "    total_value, total_gain = calculate_portfolio_value_and_gain(portfolio)\n",
    "    print(f\"Total Portfolio Value: {total_value}\")\n",
    "    print(f\"Total Portfolio Gain: {total_gain}\")"
   ]
  },
  {
   "cell_type": "markdown",
   "id": "b1c09cb5",
   "metadata": {},
   "source": [
    "### The final Portfolio Value is \"4089696.7902969\""
   ]
  },
  {
   "cell_type": "markdown",
   "id": "a8223cdd",
   "metadata": {},
   "source": [
    "### The final Portfolio Gain is \"964793.8802968999\""
   ]
  },
  {
   "cell_type": "code",
   "execution_count": null,
   "id": "95d70fb5",
   "metadata": {},
   "outputs": [],
   "source": []
  }
 ],
 "metadata": {
  "kernelspec": {
   "display_name": "Python 3 (ipykernel)",
   "language": "python",
   "name": "python3"
  },
  "language_info": {
   "codemirror_mode": {
    "name": "ipython",
    "version": 3
   },
   "file_extension": ".py",
   "mimetype": "text/x-python",
   "name": "python",
   "nbconvert_exporter": "python",
   "pygments_lexer": "ipython3",
   "version": "3.10.9"
  }
 },
 "nbformat": 4,
 "nbformat_minor": 5
}
